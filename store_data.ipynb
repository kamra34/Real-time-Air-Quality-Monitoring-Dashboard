{
 "cells": [
  {
   "cell_type": "code",
   "execution_count": 1,
   "metadata": {},
   "outputs": [],
   "source": [
    "import sqlite3"
   ]
  },
  {
   "cell_type": "code",
   "execution_count": 2,
   "metadata": {},
   "outputs": [],
   "source": [
    "def create_connection():\n",
    "    conn = sqlite3.connect('air_quality_data.db')\n",
    "    return conn\n",
    "\n",
    "def create_tables(conn):\n",
    "    cursor = conn.cursor()\n",
    "\n",
    "    cursor.execute(\"\"\"\n",
    "    CREATE TABLE IF NOT EXISTS measurements (\n",
    "        id INTEGER PRIMARY KEY,\n",
    "        city TEXT NOT NULL,\n",
    "        parameter TEXT NOT NULL,\n",
    "        value REAL NOT NULL,\n",
    "        unit TEXT NOT NULL,\n",
    "        date_utc TEXT NOT NULL,\n",
    "        latitude REAL NOT NULL,\n",
    "        longitude REAL NOT NULL\n",
    "    )\n",
    "    \"\"\")\n",
    "\n",
    "    conn.commit()\n",
    "\n",
    "if __name__ == \"__main__\":\n",
    "    conn = create_connection()\n",
    "    create_tables(conn)\n",
    "    conn.close()"
   ]
  },
  {
   "cell_type": "code",
   "execution_count": null,
   "metadata": {},
   "outputs": [],
   "source": []
  }
 ],
 "metadata": {
  "kernelspec": {
   "display_name": "base",
   "language": "python",
   "name": "python3"
  },
  "language_info": {
   "codemirror_mode": {
    "name": "ipython",
    "version": 3
   },
   "file_extension": ".py",
   "mimetype": "text/x-python",
   "name": "python",
   "nbconvert_exporter": "python",
   "pygments_lexer": "ipython3",
   "version": "3.9.13 (main, Aug 25 2022, 23:51:50) [MSC v.1916 64 bit (AMD64)]"
  },
  "orig_nbformat": 4,
  "vscode": {
   "interpreter": {
    "hash": "d096aad1e667ec8af68ab009c66951383f99fc0ed287873c6d21343c5ee357a9"
   }
  }
 },
 "nbformat": 4,
 "nbformat_minor": 2
}
