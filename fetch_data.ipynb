{
 "cells": [
  {
   "attachments": {},
   "cell_type": "markdown",
   "metadata": {},
   "source": [
    "# Fetches air quality data from the OpenAQ API for the specified cities and stores it in a SQLite database."
   ]
  },
  {
   "cell_type": "code",
   "execution_count": 3,
   "metadata": {},
   "outputs": [],
   "source": [
    "#  Import necessary libraries and modules\n",
    "import requests\n",
    "import json\n",
    "from store_data import create_connection, create_tables"
   ]
  },
  {
   "cell_type": "code",
   "execution_count": 4,
   "metadata": {},
   "outputs": [],
   "source": [
    "def get_city_measurements(city):\n",
    "    url = f\"{OPENAQ_API_BASE}/measurements?city={city}&limit=100\"\n",
    "    response = requests.get(url)\n",
    "\n",
    "    if response.status_code == 200:\n",
    "        data = response.json()[\"results\"]\n",
    "        return data\n",
    "    else:\n",
    "        print(f\"Error fetching data for {city}: {response.status_code}\")\n",
    "        return []"
   ]
  },
  {
   "cell_type": "code",
   "execution_count": 5,
   "metadata": {},
   "outputs": [],
   "source": [
    "def insert_measurement(conn, data):\n",
    "    cursor = conn.cursor()\n",
    "\n",
    "    cursor.execute(\"\"\"\n",
    "    INSERT INTO measurements (city, parameter, value, unit, date_utc, latitude, longitude) VALUES (?, ?, ?, ?, ?, ?, ?)\n",
    "    \"\"\", data)\n",
    "\n",
    "    conn.commit()"
   ]
  },
  {
   "cell_type": "code",
   "execution_count": 6,
   "metadata": {},
   "outputs": [],
   "source": [
    "OPENAQ_API_BASE = \"https://api.openaq.org/v1\"\n",
    "CITIES = [\"Stockholm\", \"Oslo\", \"Helsinki\", \"Copenhagen\"]"
   ]
  },
  {
   "cell_type": "code",
   "execution_count": 7,
   "metadata": {},
   "outputs": [],
   "source": [
    "def fetch_data():\n",
    "    all_data = {}\n",
    "    conn = create_connection()\n",
    "    create_tables(conn)\n",
    "\n",
    "    for city in CITIES:\n",
    "        city_data = get_city_measurements(city)\n",
    "\n",
    "        for entry in city_data:\n",
    "            measurement_data = (\n",
    "                entry[\"city\"],\n",
    "                entry[\"parameter\"],\n",
    "                entry[\"value\"],\n",
    "                entry[\"unit\"],\n",
    "                entry[\"date\"][\"utc\"],\n",
    "                entry[\"coordinates\"][\"latitude\"],\n",
    "                entry[\"coordinates\"][\"longitude\"],\n",
    "            )\n",
    "            insert_measurement(conn, measurement_data)\n",
    "\n",
    "        all_data[city] = city_data\n",
    "        print(f\"Fetched {len(city_data)} records for {city}\")\n",
    "\n",
    "    conn.close()\n",
    "\n",
    "    with open(\"data.json\", \"w\") as f:\n",
    "        json.dump(all_data, f)"
   ]
  },
  {
   "cell_type": "code",
   "execution_count": 8,
   "metadata": {},
   "outputs": [
    {
     "name": "stdout",
     "output_type": "stream",
     "text": [
      "Fetched 177 records for Stockholm\n",
      "Fetched 100 records for Oslo\n",
      "Fetched 0 records for Helsinki\n",
      "Fetched 0 records for Copenhagen\n"
     ]
    }
   ],
   "source": [
    "if __name__ == \"__main__\":\n",
    "    fetch_data()"
   ]
  },
  {
   "cell_type": "code",
   "execution_count": null,
   "metadata": {},
   "outputs": [],
   "source": []
  }
 ],
 "metadata": {
  "kernelspec": {
   "display_name": "base",
   "language": "python",
   "name": "python3"
  },
  "language_info": {
   "codemirror_mode": {
    "name": "ipython",
    "version": 3
   },
   "file_extension": ".py",
   "mimetype": "text/x-python",
   "name": "python",
   "nbconvert_exporter": "python",
   "pygments_lexer": "ipython3",
   "version": "3.9.13 (main, Aug 25 2022, 23:51:50) [MSC v.1916 64 bit (AMD64)]"
  },
  "orig_nbformat": 4,
  "vscode": {
   "interpreter": {
    "hash": "d096aad1e667ec8af68ab009c66951383f99fc0ed287873c6d21343c5ee357a9"
   }
  }
 },
 "nbformat": 4,
 "nbformat_minor": 2
}
